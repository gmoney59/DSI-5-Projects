{
 "cells": [
  {
   "cell_type": "markdown",
   "metadata": {},
   "source": [
    "<img src=\"http://imgur.com/1ZcRyrc.png\" style=\"float: left; margin: 15px; height: 80px\">\n",
    "\n",
    "# Project 2\n",
    "\n",
    "### Iowa Liquor Sales \n",
    "\n",
    "---\n",
    "\n",
    "In this project, you will be using the pandas data transformation functionality (melt, pivot, groupby, apply) that was not a factor in the first half of Project 2. \n",
    "\n",
    "---\n",
    "\n",
    "#### Context of the data\n",
    "\n",
    "The state of Iowa provides many data sets on their website, including [this dataset](https://www.dropbox.com/sh/pf5n5sgfgiri3i8/AACkaMeL_i_WgZ00rpxOOcysa?dl=0) which contains transactions for all stores that have a class E liquor license. You can choose one of the following two scenarios.\n",
    "\n",
    "The data can also be found [directly on their website](https://data.iowa.gov/Economy/Iowa-Liquor-Sales/m3tr-qhgy), which allows you to explore it graphically and download it (though it doesn't work very well).\n",
    "\n",
    "NOTE: Some of you may have computer issues with the full dataset. In this case, feel free to use [this 10% dataset version of Iowa liquor sales](https://drive.google.com/file/d/0Bx2SHQGVqWaseDB4QU9ZSVFDY2M/view?usp=sharing). You may want to use it anyway to test and prototype your code since it will be faster, before running it on the full dataset.\n",
    "\n",
    "---\n",
    "\n",
    "#### Package imports"
   ]
  },
  {
   "cell_type": "code",
   "execution_count": 3,
   "metadata": {
    "collapsed": true
   },
   "outputs": [],
   "source": [
    "import numpy as np\n",
    "import scipy.stats as stats\n",
    "import pandas as pd\n",
    "\n",
    "# this line tells jupyter notebook to put the plots in the notebook rather than saving them to file.\n",
    "%matplotlib inline\n",
    "\n",
    "# this line makes plots prettier on mac retina screens. If you don't have one it shouldn't do anything.\n",
    "%config InlineBackend.figure_format = 'retina'"
   ]
  },
  {
   "cell_type": "markdown",
   "metadata": {},
   "source": [
    "<img src=\"http://imgur.com/l5NasQj.png\" style=\"float: left; margin: 25px 15px 0px 0px; height: 25px\">\n",
    "\n",
    "## 1. Load the data from file\n",
    "\n",
    "---"
   ]
  },
  {
   "cell_type": "code",
   "execution_count": 4,
   "metadata": {
    "collapsed": false
   },
   "outputs": [
    {
     "name": "stdout",
     "output_type": "stream",
     "text": [
      "Dataframe is of size: 39MB\n"
     ]
    }
   ],
   "source": [
    "# check the iowa file location for your computer \n",
    "iowa_file = '~/Desktop/DSI-SF-5-COPY/datasets/iowa_liquor/Iowa_Liquor_sales_sample_10pct.csv'\n",
    "\n",
    "iowa = pd.read_csv(iowa_file)\n",
    "print \"Dataframe is of size: \" + str(iowa.values.nbytes / 10**6) + \"MB\""
   ]
  },
  {
   "cell_type": "markdown",
   "metadata": {},
   "source": [
    "<img src=\"http://imgur.com/l5NasQj.png\" style=\"float: left; margin: 25px 15px 0px 0px; height: 25px\">\n",
    "\n",
    "## 2. Do an initial overview of the data\n",
    "\n",
    "---\n",
    "\n",
    "At the very least describe the columns/variables and the datatypes. "
   ]
  },
  {
   "cell_type": "code",
   "execution_count": 5,
   "metadata": {
    "collapsed": false
   },
   "outputs": [
    {
     "name": "stdout",
     "output_type": "stream",
     "text": [
      "<class 'pandas.core.frame.DataFrame'>\n",
      "RangeIndex: 270955 entries, 0 to 270954\n",
      "Data columns (total 18 columns):\n",
      "Date                     270955 non-null object\n",
      "Store Number             270955 non-null int64\n",
      "City                     270955 non-null object\n",
      "Zip Code                 270955 non-null object\n",
      "County Number            269878 non-null float64\n",
      "County                   269878 non-null object\n",
      "Category                 270887 non-null float64\n",
      "Category Name            270323 non-null object\n",
      "Vendor Number            270955 non-null int64\n",
      "Item Number              270955 non-null int64\n",
      "Item Description         270955 non-null object\n",
      "Bottle Volume (ml)       270955 non-null int64\n",
      "State Bottle Cost        270955 non-null object\n",
      "State Bottle Retail      270955 non-null object\n",
      "Bottles Sold             270955 non-null int64\n",
      "Sale (Dollars)           270955 non-null object\n",
      "Volume Sold (Liters)     270955 non-null float64\n",
      "Volume Sold (Gallons)    270955 non-null float64\n",
      "dtypes: float64(4), int64(5), object(9)\n",
      "memory usage: 37.2+ MB\n"
     ]
    }
   ],
   "source": [
    "iowa.info()"
   ]
  },
  {
   "cell_type": "code",
   "execution_count": 6,
   "metadata": {
    "collapsed": false
   },
   "outputs": [
    {
     "name": "stderr",
     "output_type": "stream",
     "text": [
      "/home/dsi-student/anaconda2/envs/dsi/lib/python2.7/site-packages/numpy/lib/function_base.py:3834: RuntimeWarning: Invalid value encountered in percentile\n",
      "  RuntimeWarning)\n"
     ]
    },
    {
     "data": {
      "text/html": [
       "<div>\n",
       "<table border=\"1\" class=\"dataframe\">\n",
       "  <thead>\n",
       "    <tr style=\"text-align: right;\">\n",
       "      <th></th>\n",
       "      <th>Store Number</th>\n",
       "      <th>County Number</th>\n",
       "      <th>Category</th>\n",
       "      <th>Vendor Number</th>\n",
       "      <th>Item Number</th>\n",
       "      <th>Bottle Volume (ml)</th>\n",
       "      <th>Bottles Sold</th>\n",
       "      <th>Volume Sold (Liters)</th>\n",
       "      <th>Volume Sold (Gallons)</th>\n",
       "    </tr>\n",
       "  </thead>\n",
       "  <tbody>\n",
       "    <tr>\n",
       "      <th>count</th>\n",
       "      <td>270955.000000</td>\n",
       "      <td>269878.000000</td>\n",
       "      <td>2.708870e+05</td>\n",
       "      <td>270955.00000</td>\n",
       "      <td>270955.000000</td>\n",
       "      <td>270955.000000</td>\n",
       "      <td>270955.000000</td>\n",
       "      <td>270955.000000</td>\n",
       "      <td>270955.000000</td>\n",
       "    </tr>\n",
       "    <tr>\n",
       "      <th>mean</th>\n",
       "      <td>3590.263701</td>\n",
       "      <td>57.231642</td>\n",
       "      <td>1.043888e+06</td>\n",
       "      <td>256.43443</td>\n",
       "      <td>45974.963300</td>\n",
       "      <td>924.830341</td>\n",
       "      <td>9.871285</td>\n",
       "      <td>8.981351</td>\n",
       "      <td>2.372830</td>\n",
       "    </tr>\n",
       "    <tr>\n",
       "      <th>std</th>\n",
       "      <td>947.662050</td>\n",
       "      <td>27.341205</td>\n",
       "      <td>5.018211e+04</td>\n",
       "      <td>141.01489</td>\n",
       "      <td>52757.043086</td>\n",
       "      <td>493.088489</td>\n",
       "      <td>24.040912</td>\n",
       "      <td>28.913690</td>\n",
       "      <td>7.638182</td>\n",
       "    </tr>\n",
       "    <tr>\n",
       "      <th>min</th>\n",
       "      <td>2106.000000</td>\n",
       "      <td>1.000000</td>\n",
       "      <td>1.011100e+06</td>\n",
       "      <td>10.00000</td>\n",
       "      <td>168.000000</td>\n",
       "      <td>50.000000</td>\n",
       "      <td>1.000000</td>\n",
       "      <td>0.100000</td>\n",
       "      <td>0.030000</td>\n",
       "    </tr>\n",
       "    <tr>\n",
       "      <th>25%</th>\n",
       "      <td>2604.000000</td>\n",
       "      <td>NaN</td>\n",
       "      <td>NaN</td>\n",
       "      <td>115.00000</td>\n",
       "      <td>26827.000000</td>\n",
       "      <td>750.000000</td>\n",
       "      <td>2.000000</td>\n",
       "      <td>1.500000</td>\n",
       "      <td>0.400000</td>\n",
       "    </tr>\n",
       "    <tr>\n",
       "      <th>50%</th>\n",
       "      <td>3722.000000</td>\n",
       "      <td>NaN</td>\n",
       "      <td>NaN</td>\n",
       "      <td>260.00000</td>\n",
       "      <td>38176.000000</td>\n",
       "      <td>750.000000</td>\n",
       "      <td>6.000000</td>\n",
       "      <td>5.250000</td>\n",
       "      <td>1.390000</td>\n",
       "    </tr>\n",
       "    <tr>\n",
       "      <th>75%</th>\n",
       "      <td>4378.000000</td>\n",
       "      <td>NaN</td>\n",
       "      <td>NaN</td>\n",
       "      <td>380.00000</td>\n",
       "      <td>64573.000000</td>\n",
       "      <td>1000.000000</td>\n",
       "      <td>12.000000</td>\n",
       "      <td>10.500000</td>\n",
       "      <td>2.770000</td>\n",
       "    </tr>\n",
       "    <tr>\n",
       "      <th>max</th>\n",
       "      <td>9023.000000</td>\n",
       "      <td>99.000000</td>\n",
       "      <td>1.701100e+06</td>\n",
       "      <td>978.00000</td>\n",
       "      <td>995507.000000</td>\n",
       "      <td>6000.000000</td>\n",
       "      <td>2508.000000</td>\n",
       "      <td>2508.000000</td>\n",
       "      <td>662.540000</td>\n",
       "    </tr>\n",
       "  </tbody>\n",
       "</table>\n",
       "</div>"
      ],
      "text/plain": [
       "        Store Number  County Number      Category  Vendor Number  \\\n",
       "count  270955.000000  269878.000000  2.708870e+05   270955.00000   \n",
       "mean     3590.263701      57.231642  1.043888e+06      256.43443   \n",
       "std       947.662050      27.341205  5.018211e+04      141.01489   \n",
       "min      2106.000000       1.000000  1.011100e+06       10.00000   \n",
       "25%      2604.000000            NaN           NaN      115.00000   \n",
       "50%      3722.000000            NaN           NaN      260.00000   \n",
       "75%      4378.000000            NaN           NaN      380.00000   \n",
       "max      9023.000000      99.000000  1.701100e+06      978.00000   \n",
       "\n",
       "         Item Number  Bottle Volume (ml)   Bottles Sold  Volume Sold (Liters)  \\\n",
       "count  270955.000000       270955.000000  270955.000000         270955.000000   \n",
       "mean    45974.963300          924.830341       9.871285              8.981351   \n",
       "std     52757.043086          493.088489      24.040912             28.913690   \n",
       "min       168.000000           50.000000       1.000000              0.100000   \n",
       "25%     26827.000000          750.000000       2.000000              1.500000   \n",
       "50%     38176.000000          750.000000       6.000000              5.250000   \n",
       "75%     64573.000000         1000.000000      12.000000             10.500000   \n",
       "max    995507.000000         6000.000000    2508.000000           2508.000000   \n",
       "\n",
       "       Volume Sold (Gallons)  \n",
       "count          270955.000000  \n",
       "mean                2.372830  \n",
       "std                 7.638182  \n",
       "min                 0.030000  \n",
       "25%                 0.400000  \n",
       "50%                 1.390000  \n",
       "75%                 2.770000  \n",
       "max               662.540000  "
      ]
     },
     "execution_count": 6,
     "metadata": {},
     "output_type": "execute_result"
    }
   ],
   "source": [
    "iowa.describe()"
   ]
  },
  {
   "cell_type": "markdown",
   "metadata": {},
   "source": [
    "<img src=\"http://imgur.com/l5NasQj.png\" style=\"float: left; margin: 25px 15px 0px 0px; height: 25px\">\n",
    "\n",
    "## 3. Clean the dataset\n",
    "\n",
    "---\n",
    "\n",
    "### 3.1 Identify columns that you will need to convert and clean. Where and how is the data corrupted?\n",
    "\n",
    "Don't worry about converting the date column to a pandas/numpy \"datetime\" datatype, unless you want to (not required for these problems and is a challenging thing to work with in its own right.)"
   ]
  },
  {
   "cell_type": "code",
   "execution_count": null,
   "metadata": {
    "collapsed": true
   },
   "outputs": [],
   "source": [
    "'Sale (Dollars)'\n",
    "'State Bottle Retail'\n",
    "'State Bottle Cost'\n",
    "# iowa['Date'] I converted this to datetime for the 2015 problem. Necessary?"
   ]
  },
  {
   "cell_type": "markdown",
   "metadata": {},
   "source": [
    "### 3.2 Clean the columns"
   ]
  },
  {
   "cell_type": "code",
   "execution_count": 1,
   "metadata": {
    "collapsed": false
   },
   "outputs": [],
   "source": [
    "#iowa.groupby('County')['Sale (Dollars)'].mean().sort_values(ascending = False)"
   ]
  },
  {
   "cell_type": "code",
   "execution_count": 8,
   "metadata": {
    "collapsed": false
   },
   "outputs": [],
   "source": [
    "iowa['Sale (Dollars)'] = iowa['Sale (Dollars)'].str.replace(\"$\",\"\")"
   ]
  },
  {
   "cell_type": "code",
   "execution_count": 9,
   "metadata": {
    "collapsed": true
   },
   "outputs": [],
   "source": [
    "iowa['Sale (Dollars)'] = iowa['Sale (Dollars)'].astype(float)"
   ]
  },
  {
   "cell_type": "code",
   "execution_count": 112,
   "metadata": {
    "collapsed": false
   },
   "outputs": [
    {
     "data": {
      "text/plain": [
       "0     81.00\n",
       "1     41.26\n",
       "2    453.36\n",
       "3     85.50\n",
       "4    129.60\n",
       "Name: Sale (Dollars), dtype: float64"
      ]
     },
     "execution_count": 112,
     "metadata": {},
     "output_type": "execute_result"
    }
   ],
   "source": [
    "iowa['Sale (Dollars)'].head()"
   ]
  },
  {
   "cell_type": "code",
   "execution_count": 113,
   "metadata": {
    "collapsed": false
   },
   "outputs": [
    {
     "data": {
      "text/plain": [
       "0     81.00\n",
       "1     41.26\n",
       "2    453.36\n",
       "3     85.50\n",
       "4    129.60\n",
       "Name: Sale (Dollars), dtype: float64"
      ]
     },
     "execution_count": 113,
     "metadata": {},
     "output_type": "execute_result"
    }
   ],
   "source": [
    "iowa['Sale (Dollars)'].head()"
   ]
  },
  {
   "cell_type": "code",
   "execution_count": 36,
   "metadata": {
    "collapsed": false
   },
   "outputs": [],
   "source": [
    "iowa['Date'] = pd.to_datetime(iowa['Date'])"
   ]
  },
  {
   "cell_type": "code",
   "execution_count": 37,
   "metadata": {
    "collapsed": false
   },
   "outputs": [
    {
     "data": {
      "text/plain": [
       "pandas.tslib.Timestamp"
      ]
     },
     "execution_count": 37,
     "metadata": {},
     "output_type": "execute_result"
    }
   ],
   "source": [
    "#type(iowa['Date'][0])"
   ]
  },
  {
   "cell_type": "code",
   "execution_count": 38,
   "metadata": {
    "collapsed": false
   },
   "outputs": [
    {
     "data": {
      "text/plain": [
       "Timestamp('2015-11-04 00:00:00')"
      ]
     },
     "execution_count": 38,
     "metadata": {},
     "output_type": "execute_result"
    }
   ],
   "source": [
    "iowa['Date'][0]"
   ]
  },
  {
   "cell_type": "code",
   "execution_count": 58,
   "metadata": {
    "collapsed": true
   },
   "outputs": [],
   "source": [
    "iowa['State Bottle Retail'] = iowa['State Bottle Retail'].str.replace(\"$\",\"\")\n",
    "iowa['State Bottle Retail'] = iowa['State Bottle Retail'].astype(float)"
   ]
  },
  {
   "cell_type": "code",
   "execution_count": 59,
   "metadata": {
    "collapsed": true
   },
   "outputs": [],
   "source": [
    "iowa['State Bottle Cost'] = iowa['State Bottle Cost'].str.replace(\"$\",\"\")\n",
    "iowa['State Bottle Cost'] = iowa['State Bottle Cost'].astype(float)"
   ]
  },
  {
   "cell_type": "code",
   "execution_count": null,
   "metadata": {
    "collapsed": true
   },
   "outputs": [],
   "source": []
  },
  {
   "cell_type": "code",
   "execution_count": null,
   "metadata": {
    "collapsed": true
   },
   "outputs": [],
   "source": []
  },
  {
   "cell_type": "code",
   "execution_count": null,
   "metadata": {
    "collapsed": true
   },
   "outputs": [],
   "source": []
  },
  {
   "cell_type": "markdown",
   "metadata": {},
   "source": [
    "<img src=\"http://imgur.com/xDpSobf.png\" style=\"float: left; margin: 25px 15px 0px 0px; height: 25px\">\n",
    "\n",
    "### 3.3 Perform more extensive cleaning of the dataset\n",
    "\n",
    "Cleaning of data can mean a lot more than just fixing strings and numbers in columns. There are often logical errors with data, useless or nonsensical categories, redundancy of information, outliers, and many more problems.\n",
    "\n",
    "This dataset has problems beyond just fixing the types of columns. Though resolving them may not be required for EDA and analysis, if you want experience with \"deeper\" cleaning of data this is a great dataset to start practicing with.\n",
    "\n",
    "Keep in mind that some types of \"data cleaning\" is subjective: it's not always a cut-and-dry conversion of type or removal of null values. Subjectivity when dealing with data is just a fact of life for a data scientist. This isn't a kind of programming where things are just right or wrong."
   ]
  },
  {
   "cell_type": "code",
   "execution_count": null,
   "metadata": {
    "collapsed": true
   },
   "outputs": [],
   "source": [
    "iowa.isnull().sum()\n",
    "iowa.shape\n",
    "iowa = iowa.dropna()"
   ]
  },
  {
   "cell_type": "markdown",
   "metadata": {},
   "source": [
    "<img src=\"http://imgur.com/l5NasQj.png\" style=\"float: left; margin: 25px 15px 0px 0px; height: 25px\">\n",
    "\n",
    "## 4. Filter/adjust the store data\n",
    "\n",
    "---\n",
    "\n",
    "Some stores may have opened or closed in 2015. These stores will have incorrect yearly summary statistics since they were not open the full year. We need to filter them out or find another way to deal with the inconsistent numbers of months across stores.\n",
    "\n",
    "It is up to you how you want to deal with this problem.\n",
    "\n",
    "1. Investigate problematic stores.\n",
    "2. Decide on an approach to deal with stores not open for the full 2015 year.\n",
    "3. Implement your plan.\n",
    "4. Briefly report on what you did and why.\n"
   ]
  },
  {
   "cell_type": "markdown",
   "metadata": {},
   "source": [
    "<img src=\"http://imgur.com/l5NasQj.png\" style=\"float: left; margin: 25px 15px 0px 0px; height: 25px\">\n",
    "\n",
    "## 5. Proposals for new tax rates (Scenario 1)\n",
    "\n",
    "---\n",
    "\n",
    "You are a data scientist in residence at the Iowa State tax board. The Iowa State legislature is considering changes in the liquor tax rates and has assigned you to the project.\n",
    "\n",
    "### 5.1 Calculate yearly liquor sales for each store in 2015."
   ]
  },
  {
   "cell_type": "code",
   "execution_count": 18,
   "metadata": {
    "collapsed": false
   },
   "outputs": [],
   "source": [
    "#iowa[(iowa['Date'] >= '01-01-2015') & (iowa['Date'] <= '12-31-2015')]"
   ]
  },
  {
   "cell_type": "code",
   "execution_count": 39,
   "metadata": {
    "collapsed": false
   },
   "outputs": [
    {
     "data": {
      "text/plain": [
       "Timestamp('2015-11-04 00:00:00')"
      ]
     },
     "execution_count": 39,
     "metadata": {},
     "output_type": "execute_result"
    }
   ],
   "source": [
    "iowa['Date'][0]"
   ]
  },
  {
   "cell_type": "code",
   "execution_count": 60,
   "metadata": {
    "collapsed": false
   },
   "outputs": [],
   "source": [
    "iowa_2015 = iowa[(iowa['Date'] >= '2015-01-01') & (iowa['Date'] <= '2015-12-31')]"
   ]
  },
  {
   "cell_type": "code",
   "execution_count": 61,
   "metadata": {
    "collapsed": false
   },
   "outputs": [],
   "source": [
    "# Calculate yearly liquor sales per store in 2015\n",
    "sales_per_store_2015 = iowa_2015.groupby('Store Number')['Sale (Dollars)'].sum()"
   ]
  },
  {
   "cell_type": "code",
   "execution_count": 62,
   "metadata": {
    "collapsed": false
   },
   "outputs": [
    {
     "data": {
      "text/plain": [
       "Store Number\n",
       "2106    146326.22\n",
       "2113      9310.22\n",
       "2130    111871.43\n",
       "2152      7721.08\n",
       "2178     24324.18\n",
       "Name: Sale (Dollars), dtype: float64"
      ]
     },
     "execution_count": 62,
     "metadata": {},
     "output_type": "execute_result"
    }
   ],
   "source": [
    "sales_per_store_2015.head()"
   ]
  },
  {
   "cell_type": "markdown",
   "metadata": {},
   "source": [
    "### 5.2 Calculate the profit each store is making in 2015.\n"
   ]
  },
  {
   "cell_type": "code",
   "execution_count": 63,
   "metadata": {
    "collapsed": false
   },
   "outputs": [
    {
     "data": {
      "text/html": [
       "<div>\n",
       "<table border=\"1\" class=\"dataframe\">\n",
       "  <thead>\n",
       "    <tr style=\"text-align: right;\">\n",
       "      <th></th>\n",
       "      <th>Date</th>\n",
       "      <th>Store Number</th>\n",
       "      <th>City</th>\n",
       "      <th>Zip Code</th>\n",
       "      <th>County Number</th>\n",
       "      <th>County</th>\n",
       "      <th>Category</th>\n",
       "      <th>Category Name</th>\n",
       "      <th>Vendor Number</th>\n",
       "      <th>Item Number</th>\n",
       "      <th>Item Description</th>\n",
       "      <th>Bottle Volume (ml)</th>\n",
       "      <th>State Bottle Cost</th>\n",
       "      <th>State Bottle Retail</th>\n",
       "      <th>Bottles Sold</th>\n",
       "      <th>Sale (Dollars)</th>\n",
       "      <th>Volume Sold (Liters)</th>\n",
       "      <th>Volume Sold (Gallons)</th>\n",
       "    </tr>\n",
       "  </thead>\n",
       "  <tbody>\n",
       "    <tr>\n",
       "      <th>0</th>\n",
       "      <td>2015-11-04</td>\n",
       "      <td>3717</td>\n",
       "      <td>SUMNER</td>\n",
       "      <td>50674</td>\n",
       "      <td>9.0</td>\n",
       "      <td>Bremer</td>\n",
       "      <td>1051100.0</td>\n",
       "      <td>APRICOT BRANDIES</td>\n",
       "      <td>55</td>\n",
       "      <td>54436</td>\n",
       "      <td>Mr. Boston Apricot Brandy</td>\n",
       "      <td>750</td>\n",
       "      <td>4.50</td>\n",
       "      <td>6.75</td>\n",
       "      <td>12</td>\n",
       "      <td>81.00</td>\n",
       "      <td>9.00</td>\n",
       "      <td>2.38</td>\n",
       "    </tr>\n",
       "    <tr>\n",
       "      <th>4</th>\n",
       "      <td>2015-08-18</td>\n",
       "      <td>3654</td>\n",
       "      <td>BELMOND</td>\n",
       "      <td>50421</td>\n",
       "      <td>99.0</td>\n",
       "      <td>Wright</td>\n",
       "      <td>1031080.0</td>\n",
       "      <td>VODKA 80 PROOF</td>\n",
       "      <td>297</td>\n",
       "      <td>35918</td>\n",
       "      <td>Five O'clock Vodka</td>\n",
       "      <td>1750</td>\n",
       "      <td>7.20</td>\n",
       "      <td>10.80</td>\n",
       "      <td>12</td>\n",
       "      <td>129.60</td>\n",
       "      <td>21.00</td>\n",
       "      <td>5.55</td>\n",
       "    </tr>\n",
       "    <tr>\n",
       "      <th>5</th>\n",
       "      <td>2015-04-20</td>\n",
       "      <td>2569</td>\n",
       "      <td>CEDAR RAPIDS</td>\n",
       "      <td>52402</td>\n",
       "      <td>57.0</td>\n",
       "      <td>Linn</td>\n",
       "      <td>1041100.0</td>\n",
       "      <td>AMERICAN DRY GINS</td>\n",
       "      <td>205</td>\n",
       "      <td>31473</td>\n",
       "      <td>New Amsterdam Gin</td>\n",
       "      <td>1750</td>\n",
       "      <td>13.32</td>\n",
       "      <td>19.98</td>\n",
       "      <td>6</td>\n",
       "      <td>119.88</td>\n",
       "      <td>10.50</td>\n",
       "      <td>2.77</td>\n",
       "    </tr>\n",
       "    <tr>\n",
       "      <th>6</th>\n",
       "      <td>2015-08-05</td>\n",
       "      <td>2596</td>\n",
       "      <td>OTTUMWA</td>\n",
       "      <td>52501</td>\n",
       "      <td>90.0</td>\n",
       "      <td>Wapello</td>\n",
       "      <td>1051010.0</td>\n",
       "      <td>AMERICAN GRAPE BRANDIES</td>\n",
       "      <td>85</td>\n",
       "      <td>52806</td>\n",
       "      <td>Korbel Brandy</td>\n",
       "      <td>750</td>\n",
       "      <td>6.66</td>\n",
       "      <td>9.99</td>\n",
       "      <td>3</td>\n",
       "      <td>29.97</td>\n",
       "      <td>2.25</td>\n",
       "      <td>0.59</td>\n",
       "    </tr>\n",
       "    <tr>\n",
       "      <th>7</th>\n",
       "      <td>2015-06-25</td>\n",
       "      <td>3456</td>\n",
       "      <td>CLEAR LAKE</td>\n",
       "      <td>50428</td>\n",
       "      <td>17.0</td>\n",
       "      <td>Cerro Gordo</td>\n",
       "      <td>1012100.0</td>\n",
       "      <td>CANADIAN WHISKIES</td>\n",
       "      <td>65</td>\n",
       "      <td>10628</td>\n",
       "      <td>Canadian Club Whisky</td>\n",
       "      <td>1750</td>\n",
       "      <td>15.75</td>\n",
       "      <td>23.63</td>\n",
       "      <td>2</td>\n",
       "      <td>47.26</td>\n",
       "      <td>3.50</td>\n",
       "      <td>0.92</td>\n",
       "    </tr>\n",
       "  </tbody>\n",
       "</table>\n",
       "</div>"
      ],
      "text/plain": [
       "        Date  Store Number          City Zip Code  County Number       County  \\\n",
       "0 2015-11-04          3717        SUMNER    50674            9.0       Bremer   \n",
       "4 2015-08-18          3654       BELMOND    50421           99.0       Wright   \n",
       "5 2015-04-20          2569  CEDAR RAPIDS    52402           57.0         Linn   \n",
       "6 2015-08-05          2596       OTTUMWA    52501           90.0      Wapello   \n",
       "7 2015-06-25          3456    CLEAR LAKE    50428           17.0  Cerro Gordo   \n",
       "\n",
       "    Category            Category Name  Vendor Number  Item Number  \\\n",
       "0  1051100.0         APRICOT BRANDIES             55        54436   \n",
       "4  1031080.0           VODKA 80 PROOF            297        35918   \n",
       "5  1041100.0        AMERICAN DRY GINS            205        31473   \n",
       "6  1051010.0  AMERICAN GRAPE BRANDIES             85        52806   \n",
       "7  1012100.0        CANADIAN WHISKIES             65        10628   \n",
       "\n",
       "            Item Description  Bottle Volume (ml)  State Bottle Cost  \\\n",
       "0  Mr. Boston Apricot Brandy                 750               4.50   \n",
       "4         Five O'clock Vodka                1750               7.20   \n",
       "5          New Amsterdam Gin                1750              13.32   \n",
       "6              Korbel Brandy                 750               6.66   \n",
       "7       Canadian Club Whisky                1750              15.75   \n",
       "\n",
       "   State Bottle Retail  Bottles Sold  Sale (Dollars)  Volume Sold (Liters)  \\\n",
       "0                 6.75            12           81.00                  9.00   \n",
       "4                10.80            12          129.60                 21.00   \n",
       "5                19.98             6          119.88                 10.50   \n",
       "6                 9.99             3           29.97                  2.25   \n",
       "7                23.63             2           47.26                  3.50   \n",
       "\n",
       "   Volume Sold (Gallons)  \n",
       "0                   2.38  \n",
       "4                   5.55  \n",
       "5                   2.77  \n",
       "6                   0.59  \n",
       "7                   0.92  "
      ]
     },
     "execution_count": 63,
     "metadata": {},
     "output_type": "execute_result"
    }
   ],
   "source": [
    "iowa_2015.head(5)"
   ]
  },
  {
   "cell_type": "code",
   "execution_count": 64,
   "metadata": {
    "collapsed": false
   },
   "outputs": [
    {
     "name": "stderr",
     "output_type": "stream",
     "text": [
      "/home/dsi-student/anaconda2/envs/dsi/lib/python2.7/site-packages/ipykernel/__main__.py:1: SettingWithCopyWarning: \n",
      "A value is trying to be set on a copy of a slice from a DataFrame.\n",
      "Try using .loc[row_indexer,col_indexer] = value instead\n",
      "\n",
      "See the caveats in the documentation: http://pandas.pydata.org/pandas-docs/stable/indexing.html#indexing-view-versus-copy\n",
      "  if __name__ == '__main__':\n"
     ]
    }
   ],
   "source": [
    "# Adds 'Profit' Column\n",
    "iowa_2015['Profit'] = (iowa_2015['State Bottle Retail'] - iowa_2015['State Bottle Cost']) * iowa_2015['Bottles Sold']"
   ]
  },
  {
   "cell_type": "code",
   "execution_count": 65,
   "metadata": {
    "collapsed": false
   },
   "outputs": [
    {
     "data": {
      "text/html": [
       "<div>\n",
       "<table border=\"1\" class=\"dataframe\">\n",
       "  <thead>\n",
       "    <tr style=\"text-align: right;\">\n",
       "      <th></th>\n",
       "      <th>Date</th>\n",
       "      <th>Store Number</th>\n",
       "      <th>City</th>\n",
       "      <th>Zip Code</th>\n",
       "      <th>County Number</th>\n",
       "      <th>County</th>\n",
       "      <th>Category</th>\n",
       "      <th>Category Name</th>\n",
       "      <th>Vendor Number</th>\n",
       "      <th>Item Number</th>\n",
       "      <th>Item Description</th>\n",
       "      <th>Bottle Volume (ml)</th>\n",
       "      <th>State Bottle Cost</th>\n",
       "      <th>State Bottle Retail</th>\n",
       "      <th>Bottles Sold</th>\n",
       "      <th>Sale (Dollars)</th>\n",
       "      <th>Volume Sold (Liters)</th>\n",
       "      <th>Volume Sold (Gallons)</th>\n",
       "      <th>Profit</th>\n",
       "    </tr>\n",
       "  </thead>\n",
       "  <tbody>\n",
       "    <tr>\n",
       "      <th>0</th>\n",
       "      <td>2015-11-04</td>\n",
       "      <td>3717</td>\n",
       "      <td>SUMNER</td>\n",
       "      <td>50674</td>\n",
       "      <td>9.0</td>\n",
       "      <td>Bremer</td>\n",
       "      <td>1051100.0</td>\n",
       "      <td>APRICOT BRANDIES</td>\n",
       "      <td>55</td>\n",
       "      <td>54436</td>\n",
       "      <td>Mr. Boston Apricot Brandy</td>\n",
       "      <td>750</td>\n",
       "      <td>4.50</td>\n",
       "      <td>6.75</td>\n",
       "      <td>12</td>\n",
       "      <td>81.00</td>\n",
       "      <td>9.00</td>\n",
       "      <td>2.38</td>\n",
       "      <td>27.00</td>\n",
       "    </tr>\n",
       "    <tr>\n",
       "      <th>4</th>\n",
       "      <td>2015-08-18</td>\n",
       "      <td>3654</td>\n",
       "      <td>BELMOND</td>\n",
       "      <td>50421</td>\n",
       "      <td>99.0</td>\n",
       "      <td>Wright</td>\n",
       "      <td>1031080.0</td>\n",
       "      <td>VODKA 80 PROOF</td>\n",
       "      <td>297</td>\n",
       "      <td>35918</td>\n",
       "      <td>Five O'clock Vodka</td>\n",
       "      <td>1750</td>\n",
       "      <td>7.20</td>\n",
       "      <td>10.80</td>\n",
       "      <td>12</td>\n",
       "      <td>129.60</td>\n",
       "      <td>21.00</td>\n",
       "      <td>5.55</td>\n",
       "      <td>43.20</td>\n",
       "    </tr>\n",
       "    <tr>\n",
       "      <th>5</th>\n",
       "      <td>2015-04-20</td>\n",
       "      <td>2569</td>\n",
       "      <td>CEDAR RAPIDS</td>\n",
       "      <td>52402</td>\n",
       "      <td>57.0</td>\n",
       "      <td>Linn</td>\n",
       "      <td>1041100.0</td>\n",
       "      <td>AMERICAN DRY GINS</td>\n",
       "      <td>205</td>\n",
       "      <td>31473</td>\n",
       "      <td>New Amsterdam Gin</td>\n",
       "      <td>1750</td>\n",
       "      <td>13.32</td>\n",
       "      <td>19.98</td>\n",
       "      <td>6</td>\n",
       "      <td>119.88</td>\n",
       "      <td>10.50</td>\n",
       "      <td>2.77</td>\n",
       "      <td>39.96</td>\n",
       "    </tr>\n",
       "    <tr>\n",
       "      <th>6</th>\n",
       "      <td>2015-08-05</td>\n",
       "      <td>2596</td>\n",
       "      <td>OTTUMWA</td>\n",
       "      <td>52501</td>\n",
       "      <td>90.0</td>\n",
       "      <td>Wapello</td>\n",
       "      <td>1051010.0</td>\n",
       "      <td>AMERICAN GRAPE BRANDIES</td>\n",
       "      <td>85</td>\n",
       "      <td>52806</td>\n",
       "      <td>Korbel Brandy</td>\n",
       "      <td>750</td>\n",
       "      <td>6.66</td>\n",
       "      <td>9.99</td>\n",
       "      <td>3</td>\n",
       "      <td>29.97</td>\n",
       "      <td>2.25</td>\n",
       "      <td>0.59</td>\n",
       "      <td>9.99</td>\n",
       "    </tr>\n",
       "    <tr>\n",
       "      <th>7</th>\n",
       "      <td>2015-06-25</td>\n",
       "      <td>3456</td>\n",
       "      <td>CLEAR LAKE</td>\n",
       "      <td>50428</td>\n",
       "      <td>17.0</td>\n",
       "      <td>Cerro Gordo</td>\n",
       "      <td>1012100.0</td>\n",
       "      <td>CANADIAN WHISKIES</td>\n",
       "      <td>65</td>\n",
       "      <td>10628</td>\n",
       "      <td>Canadian Club Whisky</td>\n",
       "      <td>1750</td>\n",
       "      <td>15.75</td>\n",
       "      <td>23.63</td>\n",
       "      <td>2</td>\n",
       "      <td>47.26</td>\n",
       "      <td>3.50</td>\n",
       "      <td>0.92</td>\n",
       "      <td>15.76</td>\n",
       "    </tr>\n",
       "  </tbody>\n",
       "</table>\n",
       "</div>"
      ],
      "text/plain": [
       "        Date  Store Number          City Zip Code  County Number       County  \\\n",
       "0 2015-11-04          3717        SUMNER    50674            9.0       Bremer   \n",
       "4 2015-08-18          3654       BELMOND    50421           99.0       Wright   \n",
       "5 2015-04-20          2569  CEDAR RAPIDS    52402           57.0         Linn   \n",
       "6 2015-08-05          2596       OTTUMWA    52501           90.0      Wapello   \n",
       "7 2015-06-25          3456    CLEAR LAKE    50428           17.0  Cerro Gordo   \n",
       "\n",
       "    Category            Category Name  Vendor Number  Item Number  \\\n",
       "0  1051100.0         APRICOT BRANDIES             55        54436   \n",
       "4  1031080.0           VODKA 80 PROOF            297        35918   \n",
       "5  1041100.0        AMERICAN DRY GINS            205        31473   \n",
       "6  1051010.0  AMERICAN GRAPE BRANDIES             85        52806   \n",
       "7  1012100.0        CANADIAN WHISKIES             65        10628   \n",
       "\n",
       "            Item Description  Bottle Volume (ml)  State Bottle Cost  \\\n",
       "0  Mr. Boston Apricot Brandy                 750               4.50   \n",
       "4         Five O'clock Vodka                1750               7.20   \n",
       "5          New Amsterdam Gin                1750              13.32   \n",
       "6              Korbel Brandy                 750               6.66   \n",
       "7       Canadian Club Whisky                1750              15.75   \n",
       "\n",
       "   State Bottle Retail  Bottles Sold  Sale (Dollars)  Volume Sold (Liters)  \\\n",
       "0                 6.75            12           81.00                  9.00   \n",
       "4                10.80            12          129.60                 21.00   \n",
       "5                19.98             6          119.88                 10.50   \n",
       "6                 9.99             3           29.97                  2.25   \n",
       "7                23.63             2           47.26                  3.50   \n",
       "\n",
       "   Volume Sold (Gallons)  Profit  \n",
       "0                   2.38   27.00  \n",
       "4                   5.55   43.20  \n",
       "5                   2.77   39.96  \n",
       "6                   0.59    9.99  \n",
       "7                   0.92   15.76  "
      ]
     },
     "execution_count": 65,
     "metadata": {},
     "output_type": "execute_result"
    }
   ],
   "source": [
    "iowa_2015.head(5)"
   ]
  },
  {
   "cell_type": "code",
   "execution_count": 67,
   "metadata": {
    "collapsed": true
   },
   "outputs": [],
   "source": [
    "# Calculate yearly liquor profit per store in 2015\n",
    "profit_per_store_2015 = iowa_2015.groupby('Store Number')['Profit'].sum()"
   ]
  },
  {
   "cell_type": "code",
   "execution_count": 68,
   "metadata": {
    "collapsed": false
   },
   "outputs": [
    {
     "data": {
      "text/plain": [
       "Store Number\n",
       "2106    48838.08\n",
       "2113     3109.04\n",
       "2130    37325.20\n",
       "2152     2587.53\n",
       "2178     8165.70\n",
       "Name: Profit, dtype: float64"
      ]
     },
     "execution_count": 68,
     "metadata": {},
     "output_type": "execute_result"
    }
   ],
   "source": [
    "profit_per_store_2015.head(5)"
   ]
  },
  {
   "cell_type": "markdown",
   "metadata": {},
   "source": [
    "### 5.3 Investigate which Iowa counties are making the most profit on liquor per gallon in 2015."
   ]
  },
  {
   "cell_type": "code",
   "execution_count": 70,
   "metadata": {
    "collapsed": true
   },
   "outputs": [],
   "source": [
    "profit_per_county_2015 = iowa_2015.groupby('County')['Profit'].sum().sort_values(ascending = False)"
   ]
  },
  {
   "cell_type": "code",
   "execution_count": 72,
   "metadata": {
    "collapsed": false
   },
   "outputs": [
    {
     "data": {
      "text/plain": [
       "County\n",
       "Polk          2139175.98\n",
       "Linn           870999.67\n",
       "Scott          682628.41\n",
       "Johnson        574499.31\n",
       "Black Hawk     529097.01\n",
       "Name: Profit, dtype: float64"
      ]
     },
     "execution_count": 72,
     "metadata": {},
     "output_type": "execute_result"
    }
   ],
   "source": [
    "# Profit by County\n",
    "profit_per_county_2015.head(5)"
   ]
  },
  {
   "cell_type": "markdown",
   "metadata": {},
   "source": [
    "<img src=\"http://imgur.com/xDpSobf.png\" style=\"float: left; margin: 25px 15px 0px 0px; height: 25px\">\n",
    "\n",
    "### 5.4 Plot a color map of average profit per county in 2015.\n",
    "\n",
    "[Check out this site](http://flowingdata.com/2009/11/12/how-to-make-a-us-county-thematic-map-using-free-tools/) for  information on how to create map visualizations in python. There are other resources online for map plotting in python as well.\n",
    "\n",
    "Another interesting map plot might show the difference in profit between time periods. Change in profit from November to December, for example."
   ]
  },
  {
   "cell_type": "code",
   "execution_count": null,
   "metadata": {
    "collapsed": true
   },
   "outputs": [],
   "source": []
  },
  {
   "cell_type": "markdown",
   "metadata": {},
   "source": [
    "### 5.5  Does profit scale proportionally to store size?\n",
    "\n",
    "Size of a store can be defined as the total gallons sold in 2015. Is the profit to store size ratio increasing as store size increases? Decreasing? Consistent?"
   ]
  },
  {
   "cell_type": "code",
   "execution_count": 78,
   "metadata": {
    "collapsed": true
   },
   "outputs": [],
   "source": [
    "gallons_per_store_2015 = iowa_2015.groupby('Store Number')['Volume Sold (Gallons)'].sum()"
   ]
  },
  {
   "cell_type": "code",
   "execution_count": 88,
   "metadata": {
    "collapsed": true
   },
   "outputs": [],
   "source": [
    "gps = pd.DataFrame(gallons_per_store_2015)"
   ]
  },
  {
   "cell_type": "code",
   "execution_count": 96,
   "metadata": {
    "collapsed": true
   },
   "outputs": [],
   "source": [
    "gps['id'] = gps.index"
   ]
  },
  {
   "cell_type": "code",
   "execution_count": 108,
   "metadata": {
    "collapsed": false
   },
   "outputs": [],
   "source": [
    "#gallons_per_store_2015.head()\n",
    "#gps.head()"
   ]
  },
  {
   "cell_type": "code",
   "execution_count": 90,
   "metadata": {
    "collapsed": true
   },
   "outputs": [],
   "source": [
    "pps = pd.DataFrame(profit_per_store_2015)"
   ]
  },
  {
   "cell_type": "code",
   "execution_count": 94,
   "metadata": {
    "collapsed": true
   },
   "outputs": [],
   "source": [
    "pps['id'] = pps.index"
   ]
  },
  {
   "cell_type": "code",
   "execution_count": 109,
   "metadata": {
    "collapsed": false
   },
   "outputs": [],
   "source": [
    "#pps.head()"
   ]
  },
  {
   "cell_type": "code",
   "execution_count": 99,
   "metadata": {
    "collapsed": false
   },
   "outputs": [],
   "source": [
    "prof_ratio = pd.merge(gps,pps)"
   ]
  },
  {
   "cell_type": "code",
   "execution_count": 101,
   "metadata": {
    "collapsed": true
   },
   "outputs": [],
   "source": [
    "prof_ratio['p_ratio'] = prof_ratio['Profit'] / prof_ratio['Volume Sold (Gallons)']"
   ]
  },
  {
   "cell_type": "code",
   "execution_count": 105,
   "metadata": {
    "collapsed": false
   },
   "outputs": [
    {
     "data": {
      "text/html": [
       "<div>\n",
       "<table border=\"1\" class=\"dataframe\">\n",
       "  <thead>\n",
       "    <tr style=\"text-align: right;\">\n",
       "      <th></th>\n",
       "      <th>Volume Sold (Gallons)</th>\n",
       "      <th>id</th>\n",
       "      <th>Profit</th>\n",
       "      <th>p_ratio</th>\n",
       "    </tr>\n",
       "  </thead>\n",
       "  <tbody>\n",
       "    <tr>\n",
       "      <th>12</th>\n",
       "      <td>743.7</td>\n",
       "      <td>2248</td>\n",
       "      <td>22584.51</td>\n",
       "      <td>30.3678</td>\n",
       "    </tr>\n",
       "    <tr>\n",
       "      <th>13</th>\n",
       "      <td>1020.06</td>\n",
       "      <td>2285</td>\n",
       "      <td>25721.01</td>\n",
       "      <td>25.2152</td>\n",
       "    </tr>\n",
       "    <tr>\n",
       "      <th>5</th>\n",
       "      <td>1671.5</td>\n",
       "      <td>2190</td>\n",
       "      <td>40617.73</td>\n",
       "      <td>24.3002</td>\n",
       "    </tr>\n",
       "    <tr>\n",
       "      <th>11</th>\n",
       "      <td>186.52</td>\n",
       "      <td>2238</td>\n",
       "      <td>3922.65</td>\n",
       "      <td>21.0307</td>\n",
       "    </tr>\n",
       "    <tr>\n",
       "      <th>2</th>\n",
       "      <td>1820.65</td>\n",
       "      <td>2130</td>\n",
       "      <td>37325.20</td>\n",
       "      <td>20.501</td>\n",
       "    </tr>\n",
       "    <tr>\n",
       "      <th>8</th>\n",
       "      <td>411.31</td>\n",
       "      <td>2205</td>\n",
       "      <td>8244.13</td>\n",
       "      <td>20.0436</td>\n",
       "    </tr>\n",
       "    <tr>\n",
       "      <th>14</th>\n",
       "      <td>957.84</td>\n",
       "      <td>2290</td>\n",
       "      <td>18882.37</td>\n",
       "      <td>19.7135</td>\n",
       "    </tr>\n",
       "    <tr>\n",
       "      <th>6</th>\n",
       "      <td>2127.56</td>\n",
       "      <td>2191</td>\n",
       "      <td>41744.39</td>\n",
       "      <td>19.6208</td>\n",
       "    </tr>\n",
       "    <tr>\n",
       "      <th>0</th>\n",
       "      <td>2571.33</td>\n",
       "      <td>2106</td>\n",
       "      <td>48838.08</td>\n",
       "      <td>18.9933</td>\n",
       "    </tr>\n",
       "    <tr>\n",
       "      <th>17</th>\n",
       "      <td>91.54</td>\n",
       "      <td>2367</td>\n",
       "      <td>1670.97</td>\n",
       "      <td>18.254</td>\n",
       "    </tr>\n",
       "    <tr>\n",
       "      <th>18</th>\n",
       "      <td>1654.12</td>\n",
       "      <td>2413</td>\n",
       "      <td>30102.82</td>\n",
       "      <td>18.1987</td>\n",
       "    </tr>\n",
       "    <tr>\n",
       "      <th>1</th>\n",
       "      <td>174.29</td>\n",
       "      <td>2113</td>\n",
       "      <td>3109.04</td>\n",
       "      <td>17.8383</td>\n",
       "    </tr>\n",
       "    <tr>\n",
       "      <th>9</th>\n",
       "      <td>361.37</td>\n",
       "      <td>2228</td>\n",
       "      <td>5844.34</td>\n",
       "      <td>16.1727</td>\n",
       "    </tr>\n",
       "    <tr>\n",
       "      <th>4</th>\n",
       "      <td>506.5</td>\n",
       "      <td>2178</td>\n",
       "      <td>8165.70</td>\n",
       "      <td>16.1218</td>\n",
       "    </tr>\n",
       "    <tr>\n",
       "      <th>7</th>\n",
       "      <td>480.01</td>\n",
       "      <td>2200</td>\n",
       "      <td>7653.47</td>\n",
       "      <td>15.9444</td>\n",
       "    </tr>\n",
       "    <tr>\n",
       "      <th>19</th>\n",
       "      <td>151.18</td>\n",
       "      <td>2445</td>\n",
       "      <td>2399.19</td>\n",
       "      <td>15.8698</td>\n",
       "    </tr>\n",
       "    <tr>\n",
       "      <th>15</th>\n",
       "      <td>216.98</td>\n",
       "      <td>2327</td>\n",
       "      <td>3417.67</td>\n",
       "      <td>15.7511</td>\n",
       "    </tr>\n",
       "    <tr>\n",
       "      <th>3</th>\n",
       "      <td>167.28</td>\n",
       "      <td>2152</td>\n",
       "      <td>2587.53</td>\n",
       "      <td>15.4683</td>\n",
       "    </tr>\n",
       "    <tr>\n",
       "      <th>16</th>\n",
       "      <td>1190.24</td>\n",
       "      <td>2353</td>\n",
       "      <td>18186.81</td>\n",
       "      <td>15.28</td>\n",
       "    </tr>\n",
       "    <tr>\n",
       "      <th>10</th>\n",
       "      <td>655.36</td>\n",
       "      <td>2233</td>\n",
       "      <td>9866.66</td>\n",
       "      <td>15.0553</td>\n",
       "    </tr>\n",
       "  </tbody>\n",
       "</table>\n",
       "</div>"
      ],
      "text/plain": [
       "   Volume Sold (Gallons)    id    Profit  p_ratio\n",
       "12                 743.7  2248  22584.51  30.3678\n",
       "13               1020.06  2285  25721.01  25.2152\n",
       "5                 1671.5  2190  40617.73  24.3002\n",
       "11                186.52  2238   3922.65  21.0307\n",
       "2                1820.65  2130  37325.20   20.501\n",
       "8                 411.31  2205   8244.13  20.0436\n",
       "14                957.84  2290  18882.37  19.7135\n",
       "6                2127.56  2191  41744.39  19.6208\n",
       "0                2571.33  2106  48838.08  18.9933\n",
       "17                 91.54  2367   1670.97   18.254\n",
       "18               1654.12  2413  30102.82  18.1987\n",
       "1                 174.29  2113   3109.04  17.8383\n",
       "9                 361.37  2228   5844.34  16.1727\n",
       "4                  506.5  2178   8165.70  16.1218\n",
       "7                 480.01  2200   7653.47  15.9444\n",
       "19                151.18  2445   2399.19  15.8698\n",
       "15                216.98  2327   3417.67  15.7511\n",
       "3                 167.28  2152   2587.53  15.4683\n",
       "16               1190.24  2353  18186.81    15.28\n",
       "10                655.36  2233   9866.66  15.0553"
      ]
     },
     "execution_count": 105,
     "metadata": {},
     "output_type": "execute_result"
    }
   ],
   "source": [
    "prof_ratio.head(20).sort_values(by='p_ratio', ascending = False)"
   ]
  },
  {
   "cell_type": "code",
   "execution_count": null,
   "metadata": {
    "collapsed": true
   },
   "outputs": [],
   "source": [
    "# It doesn't look like size has much of a determination on profitability. \n",
    "# There's a healthy range of small, medium, and large stores represented."
   ]
  },
  {
   "cell_type": "markdown",
   "metadata": {},
   "source": [
    "### 5.6 Create a broader category for liquor type.\n",
    "\n",
    "Liquor types are pretty granular in this dataset. Create a column that categorizes these types into a smaller amount of categories. The categories you decide on are up to you."
   ]
  },
  {
   "cell_type": "code",
   "execution_count": 111,
   "metadata": {
    "collapsed": false
   },
   "outputs": [
    {
     "data": {
      "text/html": [
       "<div>\n",
       "<table border=\"1\" class=\"dataframe\">\n",
       "  <thead>\n",
       "    <tr style=\"text-align: right;\">\n",
       "      <th></th>\n",
       "      <th>Date</th>\n",
       "      <th>Store Number</th>\n",
       "      <th>City</th>\n",
       "      <th>Zip Code</th>\n",
       "      <th>County Number</th>\n",
       "      <th>County</th>\n",
       "      <th>Category</th>\n",
       "      <th>Category Name</th>\n",
       "      <th>Vendor Number</th>\n",
       "      <th>Item Number</th>\n",
       "      <th>Item Description</th>\n",
       "      <th>Bottle Volume (ml)</th>\n",
       "      <th>State Bottle Cost</th>\n",
       "      <th>State Bottle Retail</th>\n",
       "      <th>Bottles Sold</th>\n",
       "      <th>Sale (Dollars)</th>\n",
       "      <th>Volume Sold (Liters)</th>\n",
       "      <th>Volume Sold (Gallons)</th>\n",
       "      <th>Profit</th>\n",
       "    </tr>\n",
       "  </thead>\n",
       "  <tbody>\n",
       "    <tr>\n",
       "      <th>0</th>\n",
       "      <td>2015-11-04</td>\n",
       "      <td>3717</td>\n",
       "      <td>SUMNER</td>\n",
       "      <td>50674</td>\n",
       "      <td>9.0</td>\n",
       "      <td>Bremer</td>\n",
       "      <td>1051100.0</td>\n",
       "      <td>APRICOT BRANDIES</td>\n",
       "      <td>55</td>\n",
       "      <td>54436</td>\n",
       "      <td>Mr. Boston Apricot Brandy</td>\n",
       "      <td>750</td>\n",
       "      <td>4.50</td>\n",
       "      <td>6.75</td>\n",
       "      <td>12</td>\n",
       "      <td>81.00</td>\n",
       "      <td>9.00</td>\n",
       "      <td>2.38</td>\n",
       "      <td>27.00</td>\n",
       "    </tr>\n",
       "    <tr>\n",
       "      <th>4</th>\n",
       "      <td>2015-08-18</td>\n",
       "      <td>3654</td>\n",
       "      <td>BELMOND</td>\n",
       "      <td>50421</td>\n",
       "      <td>99.0</td>\n",
       "      <td>Wright</td>\n",
       "      <td>1031080.0</td>\n",
       "      <td>VODKA 80 PROOF</td>\n",
       "      <td>297</td>\n",
       "      <td>35918</td>\n",
       "      <td>Five O'clock Vodka</td>\n",
       "      <td>1750</td>\n",
       "      <td>7.20</td>\n",
       "      <td>10.80</td>\n",
       "      <td>12</td>\n",
       "      <td>129.60</td>\n",
       "      <td>21.00</td>\n",
       "      <td>5.55</td>\n",
       "      <td>43.20</td>\n",
       "    </tr>\n",
       "    <tr>\n",
       "      <th>5</th>\n",
       "      <td>2015-04-20</td>\n",
       "      <td>2569</td>\n",
       "      <td>CEDAR RAPIDS</td>\n",
       "      <td>52402</td>\n",
       "      <td>57.0</td>\n",
       "      <td>Linn</td>\n",
       "      <td>1041100.0</td>\n",
       "      <td>AMERICAN DRY GINS</td>\n",
       "      <td>205</td>\n",
       "      <td>31473</td>\n",
       "      <td>New Amsterdam Gin</td>\n",
       "      <td>1750</td>\n",
       "      <td>13.32</td>\n",
       "      <td>19.98</td>\n",
       "      <td>6</td>\n",
       "      <td>119.88</td>\n",
       "      <td>10.50</td>\n",
       "      <td>2.77</td>\n",
       "      <td>39.96</td>\n",
       "    </tr>\n",
       "    <tr>\n",
       "      <th>6</th>\n",
       "      <td>2015-08-05</td>\n",
       "      <td>2596</td>\n",
       "      <td>OTTUMWA</td>\n",
       "      <td>52501</td>\n",
       "      <td>90.0</td>\n",
       "      <td>Wapello</td>\n",
       "      <td>1051010.0</td>\n",
       "      <td>AMERICAN GRAPE BRANDIES</td>\n",
       "      <td>85</td>\n",
       "      <td>52806</td>\n",
       "      <td>Korbel Brandy</td>\n",
       "      <td>750</td>\n",
       "      <td>6.66</td>\n",
       "      <td>9.99</td>\n",
       "      <td>3</td>\n",
       "      <td>29.97</td>\n",
       "      <td>2.25</td>\n",
       "      <td>0.59</td>\n",
       "      <td>9.99</td>\n",
       "    </tr>\n",
       "    <tr>\n",
       "      <th>7</th>\n",
       "      <td>2015-06-25</td>\n",
       "      <td>3456</td>\n",
       "      <td>CLEAR LAKE</td>\n",
       "      <td>50428</td>\n",
       "      <td>17.0</td>\n",
       "      <td>Cerro Gordo</td>\n",
       "      <td>1012100.0</td>\n",
       "      <td>CANADIAN WHISKIES</td>\n",
       "      <td>65</td>\n",
       "      <td>10628</td>\n",
       "      <td>Canadian Club Whisky</td>\n",
       "      <td>1750</td>\n",
       "      <td>15.75</td>\n",
       "      <td>23.63</td>\n",
       "      <td>2</td>\n",
       "      <td>47.26</td>\n",
       "      <td>3.50</td>\n",
       "      <td>0.92</td>\n",
       "      <td>15.76</td>\n",
       "    </tr>\n",
       "  </tbody>\n",
       "</table>\n",
       "</div>"
      ],
      "text/plain": [
       "        Date  Store Number          City Zip Code  County Number       County  \\\n",
       "0 2015-11-04          3717        SUMNER    50674            9.0       Bremer   \n",
       "4 2015-08-18          3654       BELMOND    50421           99.0       Wright   \n",
       "5 2015-04-20          2569  CEDAR RAPIDS    52402           57.0         Linn   \n",
       "6 2015-08-05          2596       OTTUMWA    52501           90.0      Wapello   \n",
       "7 2015-06-25          3456    CLEAR LAKE    50428           17.0  Cerro Gordo   \n",
       "\n",
       "    Category            Category Name  Vendor Number  Item Number  \\\n",
       "0  1051100.0         APRICOT BRANDIES             55        54436   \n",
       "4  1031080.0           VODKA 80 PROOF            297        35918   \n",
       "5  1041100.0        AMERICAN DRY GINS            205        31473   \n",
       "6  1051010.0  AMERICAN GRAPE BRANDIES             85        52806   \n",
       "7  1012100.0        CANADIAN WHISKIES             65        10628   \n",
       "\n",
       "            Item Description  Bottle Volume (ml)  State Bottle Cost  \\\n",
       "0  Mr. Boston Apricot Brandy                 750               4.50   \n",
       "4         Five O'clock Vodka                1750               7.20   \n",
       "5          New Amsterdam Gin                1750              13.32   \n",
       "6              Korbel Brandy                 750               6.66   \n",
       "7       Canadian Club Whisky                1750              15.75   \n",
       "\n",
       "   State Bottle Retail  Bottles Sold  Sale (Dollars)  Volume Sold (Liters)  \\\n",
       "0                 6.75            12           81.00                  9.00   \n",
       "4                10.80            12          129.60                 21.00   \n",
       "5                19.98             6          119.88                 10.50   \n",
       "6                 9.99             3           29.97                  2.25   \n",
       "7                23.63             2           47.26                  3.50   \n",
       "\n",
       "   Volume Sold (Gallons)  Profit  \n",
       "0                   2.38   27.00  \n",
       "4                   5.55   43.20  \n",
       "5                   2.77   39.96  \n",
       "6                   0.59    9.99  \n",
       "7                   0.92   15.76  "
      ]
     },
     "execution_count": 111,
     "metadata": {},
     "output_type": "execute_result"
    }
   ],
   "source": [
    "iowa_2015.head()"
   ]
  },
  {
   "cell_type": "markdown",
   "metadata": {},
   "source": [
    "### 5.7 Do relationships exist between the broader liquor type and profit?"
   ]
  },
  {
   "cell_type": "code",
   "execution_count": null,
   "metadata": {
    "collapsed": true
   },
   "outputs": [],
   "source": []
  },
  {
   "cell_type": "markdown",
   "metadata": {},
   "source": [
    "<img src=\"http://imgur.com/xDpSobf.png\" style=\"float: left; margin: 25px 15px 0px 0px; height: 25px\">\n",
    "\n",
    "### 5.8 Are there any noticeable relationships between liquor brand and sales? Profit?"
   ]
  },
  {
   "cell_type": "code",
   "execution_count": null,
   "metadata": {
    "collapsed": true
   },
   "outputs": [],
   "source": []
  },
  {
   "cell_type": "markdown",
   "metadata": {},
   "source": [
    "### 5.9 The tax board wants to design a tax or taxes that affect larger stores more than smaller \"mom and pop\" stores.\n",
    "\n",
    "Based on your investigations into the data, come up with a way you could design a tax that achieves this goal **without explicitly taxing stores based on size or county critera.** The liqour board does not want to obviously punish larger stores or speific counties for fear of backlash, but is willing to tax hard alcohol more than beer, for example.\n",
    "\n",
    "Feel free to do more EDA if it helps.\n",
    "\n",
    "Your report should describe whether such a tax is possible or not, and the specifics of what the tax will target/do."
   ]
  },
  {
   "cell_type": "code",
   "execution_count": null,
   "metadata": {
    "collapsed": true
   },
   "outputs": [],
   "source": []
  },
  {
   "cell_type": "markdown",
   "metadata": {},
   "source": [
    "<img src=\"http://imgur.com/l5NasQj.png\" style=\"float: left; margin: 25px 15px 0px 0px; height: 25px\">\n",
    "\n",
    "## 6. Market research for new store locations (Scenario 2)\n",
    "\n",
    "A liquor store owner in Iowa is looking to open a store in a new location and has hired you to investigate the market data for potential new locations. The business owner is interested in what you can discover from the data that will help him evaluate a good location for a new storefront.\n",
    "\n",
    "---\n",
    "\n",
    "### 6.1 Create columns for Q1 2015 sales and Q1 2016 sales.\n",
    "\n",
    "The owner is not just interested in what locations are currently selling well, but also which areas are showing the most promising sales growth from 2015 to 2016. \n",
    "\n",
    "For yearly changes we will focus on the changes from Q1 2015 to Q1 2016 specifically (avoiding effects of season changes).\n",
    "\n",
    "Note: Q1 is months: January, February, and March.\n"
   ]
  },
  {
   "cell_type": "code",
   "execution_count": null,
   "metadata": {
    "collapsed": true
   },
   "outputs": [],
   "source": []
  },
  {
   "cell_type": "markdown",
   "metadata": {},
   "source": [
    "### 6.2 Decide on a metric for performance that combines Q1 2016 sales as well as growth in sales from Q1 2015.\n",
    "\n",
    "Again, the owner wants to know that his store will be in a good position to sell a large amount of liquor now, but also have his store be more likely to grow and sell even more going forward. \n",
    "\n",
    "In particular, he is worried about opening a store in an area that is showing a decline in liquor sales between Q1 2015 and Q1 2016."
   ]
  },
  {
   "cell_type": "code",
   "execution_count": null,
   "metadata": {
    "collapsed": true
   },
   "outputs": [],
   "source": []
  },
  {
   "cell_type": "markdown",
   "metadata": {},
   "source": [
    "### 6.3 Recommend a location based on your metric.\n",
    "\n",
    "The owner asks you to make a recommendation for a new store location. Explain why you recommended this area."
   ]
  },
  {
   "cell_type": "code",
   "execution_count": null,
   "metadata": {
    "collapsed": true
   },
   "outputs": [],
   "source": []
  },
  {
   "cell_type": "markdown",
   "metadata": {},
   "source": [
    "### 6.4 Recommend a location based also on a restricted inventory type.\n",
    "\n",
    "Your employer has now decided he wants his store to focus on one type of liquor only. He askes you:\n",
    "\n",
    "1. What would be the best type of liquor to sell to maximize profit?\n",
    "2. Should the recommended location change if he is only selling one type of liquor?"
   ]
  },
  {
   "cell_type": "code",
   "execution_count": null,
   "metadata": {
    "collapsed": true
   },
   "outputs": [],
   "source": []
  },
  {
   "cell_type": "markdown",
   "metadata": {},
   "source": [
    "<img src=\"http://imgur.com/GCAf1UX.png\" style=\"float: left; margin: 25px 15px 0px 0px; height: 25px\">\n",
    "\n",
    "## 7. Time-related effects\n",
    "\n",
    "---\n",
    "\n",
    "You could imagine that liquor sales might be affected by a variety of effects related to time. Do people buy more beer in the summer? Do liquor sales skyrocket in december? Do people buy less liquor on Tuesdays?\n",
    "\n",
    "You have the date of sales in your dataset, which you can use to pull out time components.\n",
    "\n",
    "1. Come up with 3 different hypotheses about how liquor sales may vary with time-related variables. \n",
    "2. Create a visualization exploring each hypothesis.\n",
    "3. Write brief concluding remarks on what you observed.\n"
   ]
  },
  {
   "cell_type": "code",
   "execution_count": null,
   "metadata": {
    "collapsed": true
   },
   "outputs": [],
   "source": []
  },
  {
   "cell_type": "markdown",
   "metadata": {},
   "source": [
    "<img src=\"http://imgur.com/GCAf1UX.png\" style=\"float: left; margin: 25px 15px 0px 0px; height: 25px\">\n",
    "\n",
    "## 8. Appropriate spending\n",
    "\n",
    "---\n",
    "\n",
    "The owner you worked with before realized that opening new stores cost money, something he had completely overlooked earlier. He brings you back in to help him figure out how much he should be willing to spend on opening his store.\n",
    "\n",
    "### 8.1 Calculate costs and time to recoup.\n",
    "\n",
    "The owner has decided he will buy 20,000 gallons of the liquor type you recommended (randomly sampled across the different brands/subtypes). He will also be opening his store in the area you recommended.\n",
    "\n",
    "The cost of buying the property for his store will be $150,000.\n",
    "\n",
    "1. How much should he expect to spend on the 20,000 gallons of liquor alone?\n",
    "2. Based on the amount he's spent on the liquor and property, and on the profit per time period he is expected to have, how long will it take him to recoup the costs?"
   ]
  },
  {
   "cell_type": "code",
   "execution_count": null,
   "metadata": {
    "collapsed": true
   },
   "outputs": [],
   "source": []
  },
  {
   "cell_type": "markdown",
   "metadata": {},
   "source": [
    "<img src=\"http://imgur.com/gGrau8s.png\" style=\"float: left; margin: 25px 15px 0px 0px; height: 25px\">\n",
    "\n",
    "\n",
    "### 8.2 Calculate maximum loan interest rate.\n",
    "\n",
    "The owner unfortunately has to take out a loan to to pay for the entirety of the property and liquor. \n",
    "\n",
    "**Conditions of the loan**:\n",
    "\n",
    "Every quarter, (except for Q1 when he takes out the loan), the interest rate is applied to the remaining balance on the loan and added to his debt. \n",
    "\n",
    "If, for example, he made no payments whatsoever, not only would the amount of debt he owed keep increasing by quarter but the debt incurred from interest would keep increasing as well. (Since his debt keeps growing, the interest rate is applied each month to the bigger balance, incurring more debt each time.)\n",
    "\n",
    "**Determining maximum acceptable interest:**\n",
    "\n",
    "Given this, _the owner wants to be 99% confident that he will be able to pay off his loans._ If the interest rate is too high he will have to eventually declare bankruptcy.\n",
    "\n",
    "Based on his expected profits per quarter (assume the expected profit stays the same for all future quarters), what is the maximum interest rate he should accept on the loan to be 99% confident he will be able to pay it off?"
   ]
  },
  {
   "cell_type": "code",
   "execution_count": null,
   "metadata": {
    "collapsed": true
   },
   "outputs": [],
   "source": []
  }
 ],
 "metadata": {
  "anaconda-cloud": {},
  "kernelspec": {
   "display_name": "Python [default]",
   "language": "python",
   "name": "python2"
  },
  "language_info": {
   "codemirror_mode": {
    "name": "ipython",
    "version": 2
   },
   "file_extension": ".py",
   "mimetype": "text/x-python",
   "name": "python",
   "nbconvert_exporter": "python",
   "pygments_lexer": "ipython2",
   "version": "2.7.12"
  }
 },
 "nbformat": 4,
 "nbformat_minor": 0
}
